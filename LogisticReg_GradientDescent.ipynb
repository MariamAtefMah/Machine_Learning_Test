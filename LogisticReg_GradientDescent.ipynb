{
 "cells": [
  {
   "cell_type": "code",
   "execution_count": 11,
   "metadata": {},
   "outputs": [],
   "source": [
    "import copy, math\n",
    "import numpy as np\n",
    "%matplotlib widget\n",
    "import matplotlib.pyplot as plt\n",
    "#from lab_utils_common import  dlc, plot_data, plt_tumor_data, sigmoid, compute_cost_logistic\n",
    "#from plt_quad_logistic import plt_quad_logistic, plt_prob"
   ]
  },
  {
   "cell_type": "code",
   "execution_count": 12,
   "metadata": {},
   "outputs": [],
   "source": [
    "X_train = np.array([[0.5, 1.5], [1,1], [1.5, 0.5], [3, 0.5], [2, 2], [1, 2.5]])\n",
    "y_train = np.array([0, 0, 0, 1, 1, 1])"
   ]
  },
  {
   "cell_type": "code",
   "execution_count": 13,
   "metadata": {},
   "outputs": [
    {
     "data": {
      "application/vnd.jupyter.widget-view+json": {
       "model_id": "cc8d5c87703a4cc696539f3c566c78f5",
       "version_major": 2,
       "version_minor": 0
      },
      "image/png": "[encoded data removed]",
      "text/html": [
       "\n",
       "            <div style=\"display: inline-block;\">\n",
       "                <div class=\"jupyter-widgets widget-label\" style=\"text-align: center;\">\n",
       "                    Figure\n",
       "                </div>\n",
       "                <img src='data:image/png;base64,iVBORw0KGgoAAAANSUhEUgAAAZAAAAGQCAYAAACAvzbMAAAAOXRFWHRTb2Z0d2FyZQBNYXRwbG90bGliIHZlcnNpb24zLjcuMiwgaHR0cHM6Ly9tYXRwbG90bGliLm9yZy8pXeV/AAAACXBIWXMAAA9hAAAPYQGoP6dpAAAdhUlEQVR4nO3df2xV9f3H8dct0FuE3juq9gftLZKVoAilWPlxcRN/oE2DjP6xjTCXdvwykmJAthnrjESYuySEqVMGVKLITFOHrmVDEWsZJaxl8qsRWCQSWVtJW3CTe2mjl9p7vn/49W53tIV+OO29V5+P5PxxTz/n3jc35j49PffeOizLsgQAQD8lRHsAAEB8IiAAACMEBABghIAAAIwQEACAEQICADBCQAAARggIAMAIAQEAGCEgAAAjBAQAYISAAACMEBAAgBECAgAwQkAAAEYICADACAEBABghIAAAIwQEAGCEgAAAjBAQAIARAgIAMEJAAABGCAgAwAgBAQAYISAAACMEBABghIAAAIwQEACAEQICADBCQAAARggIAMAIAQEAGCEgAAAjBAQAYISAAACMEBAAgBECAgAwQkAAAEYICADACAEBABghIAAAIwQEAGDE1oBs2rRJubm5crlccrlc8nq92r17d6/rt23bJofDEbElJSXZORIAYIAMtfPOsrKytG7dOo0bN06WZenVV1/VvHnzdOzYMd166609HuNyuXTq1KnwbYfDYedIAIABYmtA5s6dG3H7mWee0aZNm3Tw4MFeA+JwOJSenm7nGACAQWBrQP5bd3e3duzYoc7OTnm93l7XdXR0aMyYMQqFQrrtttv0m9/8ptfYfC0YDCoYDIZvh0Ih/fvf/9b111/PGQyAbwTLsnTx4kWNHj1aCQkxernastkHH3xgjRgxwhoyZIjldrutt956q9e19fX11quvvmodO3bM2rdvn/XAAw9YLpfLamlp6fMxVq9ebUliY2Nj+8ZvV3o9jCaHZVmWbHTp0iU1NzfL7/frjTfe0NatW1VXV6cJEyZc8diuri7dcsstWrBggdauXdvruv89A/H7/crOzlZLS4tcLpct/w4AiKZAICCPx6MLFy7I7XZHe5we2f4rrMTEROXk5EiS8vPzdejQIT3//PPasmXLFY8dNmyYpkyZotOnT/e5zul0yul0Xrb/63d/AcA3RSz/Wn7Af7EWCoUizhb60t3drePHjysjI2OApwIAXCtbz0DKyspUWFio7OxsXbx4URUVFdq3b5/27NkjSSouLlZmZqZ8Pp8kac2aNZoxY4ZycnJ04cIFrV+/Xk1NTVqyZImdYwEABoCtATl37pyKi4vV2toqt9ut3Nxc7dmzR/fdd58kqbm5OeLdBJ999pmWLl2qtrY2jRo1Svn5+aqvr7+q6yUAgOiy/SJ6NAQCAbndbvn9fq6BAPhGiIfXtRh9czEAINYREACAEQICADBCQAAARggIAMAIAQEAGCEgAAAjBAQAYISAAACMEBAAgBECAgAwQkAAAEYICADACAEBABghIAAAIwQEAGCEgAAAjBAQAIARAgIAMEJAAABGCAgAwAgBAQAYISAAACMEBABghIAAAIwQEACAEQICADBCQAAARggIAMAIAQEAGCEgAAAjBAQAYISAAACM2BqQTZs2KTc3Vy6XSy6XS16vV7t37+7zmB07dujmm29WUlKSJk2apLffftvOkQAAA8TWgGRlZWndunU6cuSIDh8+rHvuuUfz5s3TyZMne1xfX1+vBQsWaPHixTp27JiKiopUVFSkEydO2DkWAGAAOCzLsgbyAVJSUrR+/XotXrz4sp/Nnz9fnZ2d2rVrV3jfjBkzlJeXp82bN1/1YwQCAbndbvn9frlcLlvmBoBoiofXtQG7BtLd3a3Kykp1dnbK6/X2uKahoUGzZ8+O2FdQUKCGhoY+7zsYDCoQCERsAIDBZXtAjh8/rpEjR8rpdOrhhx9WVVWVJkyY0OPatrY2paWlRexLS0tTW1tbn4/h8/nkdrvDm8fjsW1+AMDVsT0g48ePV2Njo/7+979r2bJlKikp0T/+8Q9bH6OsrEx+vz+8tbS02Hr/AIArG2r3HSYmJionJ0eSlJ+fr0OHDun555/Xli1bLlubnp6u9vb2iH3t7e1KT0/v8zGcTqecTqd9QwMA+m3APwcSCoUUDAZ7/JnX61VtbW3Evpqaml6vmQAAYoetZyBlZWUqLCxUdna2Ll68qIqKCu3bt0979uyRJBUXFyszM1M+n0+StGLFCs2aNUsbNmzQnDlzVFlZqcOHD6u8vNzOsQAAA8DWgJw7d07FxcVqbW2V2+1Wbm6u9uzZo/vuu0+S1NzcrISE/5z0zJw5UxUVFXryySf1xBNPaNy4caqurtbEiRPtHAsAMAAG/HMggyEe3i8NAP0RD69rfBcWAMAIAQEAGCEgAAAjBAQAYISAAACMEBAAgBECAgAwQkAAAEYICADACAEBABghIAAAIwQEAGCEgAAAjBAQAIARAgIAMEJAAABGCAgAwAgBAQAYISAAACMEBABghIAAAIwQEACAEQICADBCQAAARggIAMAIAQEAGCEgAAAjBAQAYISAAACMEBAAgBECAgAwQkAAAEYICADAiK0B8fl8mjp1qpKTk5WamqqioiKdOnWqz2O2bdsmh8MRsSUlJdk5FgBgANgakLq6OpWWlurgwYOqqalRV1eX7r//fnV2dvZ5nMvlUmtra3hramqycywAwAAYauedvfPOOxG3t23bptTUVB05ckR33nlnr8c5HA6lp6fbOQoAYIAN6DUQv98vSUpJSelzXUdHh8aMGSOPx6N58+bp5MmTfa4PBoMKBAIRGwBgcA1YQEKhkFauXKk77rhDEydO7HXd+PHj9fLLL2vnzp167bXXFAqFNHPmTH3yySe9HuPz+eR2u8Obx+MZiH8CAKAPDsuyrIG442XLlmn37t06cOCAsrKyrvq4rq4u3XLLLVqwYIHWrl3b45pgMKhgMBi+HQgE5PF45Pf75XK5rnl2AIi2QCAgt9sd069rtl4D+dry5cu1a9cu7d+/v1/xkKRhw4ZpypQpOn36dK9rnE6nnE7ntY4JALgGtv4Ky7IsLV++XFVVVdq7d6/Gjh3b7/vo7u7W8ePHlZGRYedoAACb2XoGUlpaqoqKCu3cuVPJyclqa2uTJLndbg0fPlySVFxcrMzMTPl8PknSmjVrNGPGDOXk5OjChQtav369mpqatGTJEjtHAwDYzNaAbNq0SZJ01113Rex/5ZVX9LOf/UyS1NzcrISE/5z4fPbZZ1q6dKna2to0atQo5efnq76+XhMmTLBzNACAzQbsIvpgioeLTQDQH/HwusZ3YQEAjBAQAIARAgIAMEJAAABGCAgAwAgBAQAYISAAACMEBABghIAAAIwQEACAEQICADBCQAAARggIAMAIAQEAGCEgAAAjBAQAYISAAACMEBAAgBECAgAwQkAAAEYICADACAEBABghIAAAIwQEAGCEgAAAjBAQAIARAgIAMEJAAABGCAgAwAgBAQAYISAAACMEBABghIAAAIzYGhCfz6epU6cqOTlZqampKioq0qlTp6543I4dO3TzzTcrKSlJkyZN0ttvv23nWACAAWBrQOrq6lRaWqqDBw+qpqZGXV1duv/++9XZ2dnrMfX19VqwYIEWL16sY8eOqaioSEVFRTpx4oSdowEAbOawLMsaqDs/f/68UlNTVVdXpzvvvLPHNfPnz1dnZ6d27doV3jdjxgzl5eVp8+bNV/U4gUBAbrdbfr9fLpfLltkBIJri4XVtQK+B+P1+SVJKSkqvaxoaGjR79uyIfQUFBWpoaOj1mGAwqEAgELEBAAbXgAUkFApp5cqVuuOOOzRx4sRe17W1tSktLS1iX1pamtra2no9xufzye12hzePx2Pb3ACAqzNgASktLdWJEydUWVlp+32XlZXJ7/eHt5aWFtsfAwDQt6EDcafLly/Xrl27tH//fmVlZfW5Nj09Xe3t7RH72tvblZ6e3usxTqdTTqfTllkBAGZsPQOxLEvLly9XVVWV9u7dq7Fjx17xGK/Xq9ra2oh9NTU18nq9do4GALCZrWcgpaWlqqio0M6dO5WcnBy+juF2uzV8+HBJUnFxsTIzM+Xz+SRJK1as0KxZs7RhwwbNmTNHlZWVOnz4sMrLy+0cDQBgM1vPQDZt2iS/36+77rpLGRkZ4e31118Pr2lublZra2v49syZM1VRUaHy8nJNnjxZb7zxhqqrq/u88A4AiL4B/RzIYImH90sDQH/Ew+sa34UFADBCQAAARggIAMAIAQEAGCEgAAAjBAQAYISAAACMXDEgoVBI27dvH4xZAABx5IoB6erq0sKFCwdjFgBAHBkqSWvWrOl1QVdX16ANAwCIH0Ml6de//rV++MMfyu12X7agu7t70IcCAMS+oZI0adIk/eQnP9EDDzxw2YIvvvhCW7duHfTBAACxLUGSli5dqlAo1OOCYcOGafXq1YM6FAAg9vFtvAAQg+LhdY3PgQAAjPQakKampsGcAwAQZxK+/rOzX2tqatJDDz2k8ePHR2kkAEA8GDp16lT95S9/0ahRo/TMM89o+/btcjgcWrx4cbRnAwDEsKFZWVn63ve+py+//FJDhgzRsmXL9NhjjykjIyPaswEAYtjQxsZGBYNBORwOPfvss1q2bFm0ZwIAxIGEpUuX6p///KcWL16sRx55ROvWrYv2TACAODD0d7/7nSSpvLxc48aNU1lZmU6dOqXy8nINGzYsyuMBAGLV0P++8ctf/lLjxo3TT3/6U3388ceqq6uL1lwAgBh32edAioqKVFdXp9OnT0djHgBAnOjxg4T5+fl6//33B3sWAEAc6fWT6JmZmYM5BwAgzvBdWAAAIwQEAGCEgAAAjBAQAIARAgIAMEJAAABGCAgAwIjtAdm/f7/mzp2r0aNHy+FwqLq6us/1+/btk8PhuGz73z90BQCILbYHpLOzU5MnT9bGjRv7ddypU6fU2toa3lJTU+0eDQBgo6FXXtI/hYWFKiws7Pdxqamp+s53vmP3OACAARIz10Dy8vKUkZGh++67T3/729/6XBsMBhUIBCI2AMDginpAMjIytHnzZr355pt688035fF4dNddd+no0aO9HuPz+eR2u8Obx+MZxIkBAJLksCzLGrA7dzhUVVWloqKifh03a9YsZWdn6w9/+EOPPw8GgwoGg+HbgUBAHo9Hfr9fLpfrWkYGgJgQCATkdrtj+nXN9msgdpg2bZoOHDjQ68+dTqecTucgTgQA+F9R/xVWTxobG5WRkRHtMQAAfbD9DKSjoyPirxmeOXNGjY2NSklJUXZ2tsrKynT27Flt375dkvTcc89p7NixuvXWW/XFF19o69at2rt3r9599127RwMA2Mj2gBw+fFh33313+PaqVaskSSUlJdq2bZtaW1vV3Nwc/vmlS5f085//XGfPntV1112n3NxcvffeexH3AQCIPQN6EX2wxMPFJgDoj3h4XYvJayAAgNhHQAAARggIAMAIAQEAGCEgAAAjBAQAYISAAACMEBAAgBECAgAwQkAAAEYICADACAEBABghIAAAIwQEAGCEgAAAjBAQAIARAgIAMEJAAABGCAgAwAgBAQAYISAAACMEBABghIAAAIwQEACAEQICADBCQAAARggIAMAIAQEAGCEgAAAjBAQAYISAAACMEBAAgBECAgAwYntA9u/fr7lz52r06NFyOByqrq6+4jH79u3TbbfdJqfTqZycHG3bts3usQAANrM9IJ2dnZo8ebI2btx4VevPnDmjOXPm6O6771ZjY6NWrlypJUuWaM+ePXaPBgCw0VC777CwsFCFhYVXvX7z5s0aO3asNmzYIEm65ZZbdODAAT377LMqKCiwezwAgE2ifg2koaFBs2fPjthXUFCghoaGXo8JBoMKBAIRGwBgcEU9IG1tbUpLS4vYl5aWpkAgoM8//7zHY3w+n9xud3jzeDyDMSoA4L9EPSAmysrK5Pf7w1tLS0u0RwKAbx3br4H0V3p6utrb2yP2tbe3y+Vyafjw4T0e43Q65XQ6B2M8AEAvon4G4vV6VVtbG7GvpqZGXq83ShMBAK6G7QHp6OhQY2OjGhsbJX31Nt3GxkY1NzdL+urXT8XFxeH1Dz/8sD7++GM99thj+vDDD/X73/9ef/zjH/Xoo4/aPRoAwEa2B+Tw4cOaMmWKpkyZIklatWqVpkyZoqeeekqS1NraGo6JJI0dO1ZvvfWWampqNHnyZG3YsEFbt27lLbwAEOMclmVZ0R7iWgUCAbndbvn9frlcrmiPAwDXLB5e16J+DQQAEJ8ICADACAEBABghIAAAIwQEAGCEgAAAjBAQAIARAgIAMEJAAABGCAgAwAgBAQAYISAAACMEBABghIAAAIwQEACAEQICADBCQAAARggIAMAIAQEAGCEgAAAjBAQAYISAAACMEBAAgBECAgAwQkAAAEYICADACAEBABghIAAAIwQEAGCEgAAAjBAQAIARAgIAMEJAAABGBiQgGzdu1E033aSkpCRNnz5d77//fq9rt23bJofDEbElJSUNxFgAABvZHpDXX39dq1at0urVq3X06FFNnjxZBQUFOnfuXK/HuFwutba2hrempia7xwIA2Mz2gPz2t7/V0qVLtXDhQk2YMEGbN2/Wddddp5dffrnXYxwOh9LT08NbWlqa3WMBAGxma0AuXbqkI0eOaPbs2f95gIQEzZ49Ww0NDb0e19HRoTFjxsjj8WjevHk6efJkn48TDAYVCAQiNgDA4LI1IJ9++qm6u7svO4NIS0tTW1tbj8eMHz9eL7/8snbu3KnXXntNoVBIM2fO1CeffNLr4/h8Prnd7vDm8Xjs/GcAAK5C1N+F5fV6VVxcrLy8PM2aNUt/+tOfdOONN2rLli29HlNWVia/3x/eWlpaBnFiAIAkDbXzzm644QYNGTJE7e3tEfvb29uVnp5+VfcxbNgwTZkyRadPn+51jdPplNPpvKZZAQDXxtYzkMTEROXn56u2tja8LxQKqba2Vl6v96ruo7u7W8ePH1dGRoadowEAbGbrGYgkrVq1SiUlJbr99ts1bdo0Pffcc+rs7NTChQslScXFxcrMzJTP55MkrVmzRjNmzFBOTo4uXLig9evXq6mpSUuWLLF7NACAjWwPyPz583X+/Hk99dRTamtrU15ent55553whfXm5mYlJPznxOezzz7T0qVL1dbWplGjRik/P1/19fWaMGGC3aMBAGzksCzLivYQ1yoQCMjtdsvv98vlckV7HAC4ZvHwuhb1d2EBAOITAQEAGCEgAAAjBAQAYISAAACMEBAAgBECAgAwQkAAAEYICADACAEBABghIAAAIwQEAGCEgAAAjBAQAIARAgIAMEJAAABGCAgAwAgBAQAYISAAACMEBABghIAAAIwQEACAEQICADBCQAAARggIAMAIAQEAGCEgAAAjBAQAYISAAACMEBAAgBECAgAwQkAAAEYICADAyIAEZOPGjbrpppuUlJSk6dOn6/333+9z/Y4dO3TzzTcrKSlJkyZN0ttvvz0QYwEAbGR7QF5//XWtWrVKq1ev1tGjRzV58mQVFBTo3LlzPa6vr6/XggULtHjxYh07dkxFRUUqKirSiRMn7B4NAGAjh2VZlp13OH36dE2dOlUvvviiJCkUCsnj8eiRRx7R448/ftn6+fPnq7OzU7t27QrvmzFjhvLy8rR58+aresxAICC32y2/3y+Xy2XPPwQAoigeXteG2nlnly5d0pEjR1RWVhbel5CQoNmzZ6uhoaHHYxoaGrRq1aqIfQUFBaquru71cYLBoILBYPi23++X9NUTDgDfBF+/ntn8//i2sjUgn376qbq7u5WWlhaxPy0tTR9++GGPx7S1tfW4vq2trdfH8fl8evrppy/b7/F4DKYGgNj1r3/9S263O9pj9MjWgAyWsrKyiLOWCxcuaMyYMWpubo7ZJzoWBQIBeTwetbS0xOwpcqzhOTPD89Z/fr9f2dnZSklJifYovbI1IDfccIOGDBmi9vb2iP3t7e1KT0/v8Zj09PR+rZckp9Mpp9N52X63281/nAZcLhfPWz/xnJnheeu/hITY/bSFrZMlJiYqPz9ftbW14X2hUEi1tbXyer09HuP1eiPWS1JNTU2v6wEAscH2X2GtWrVKJSUluv322zVt2jQ999xz6uzs1MKFCyVJxcXFyszMlM/nkyStWLFCs2bN0oYNGzRnzhxVVlbq8OHDKi8vt3s0AICNbA/I/Pnzdf78eT311FNqa2tTXl6e3nnnnfCF8ubm5ohTspkzZ6qiokJPPvmknnjiCY0bN07V1dWaOHHiVT+m0+nU6tWre/y1FnrH89Z/PGdmeN76Lx6eM9s/BwIA+HaI3aszAICYRkAAAEYICADACAEBABiJ+4D096vjIe3fv19z587V6NGj5XA4+vzeMXzF5/Np6tSpSk5OVmpqqoqKinTq1KlojxXTNm3apNzc3PCHB71er3bv3h3tseLKunXr5HA4tHLlymiP0qO4Dkh/vzoeX+ns7NTkyZO1cePGaI8SN+rq6lRaWqqDBw+qpqZGXV1duv/++9XZ2Rnt0WJWVlaW1q1bpyNHjujw4cO65557NG/ePJ08eTLao8WFQ4cOacuWLcrNzY32KL2z4ti0adOs0tLS8O3u7m5r9OjRls/ni+JU8UWSVVVVFe0x4s65c+csSVZdXV20R4kro0aNsrZu3RrtMWLexYsXrXHjxlk1NTXWrFmzrBUrVkR7pB7F7RnI118dP3v27PC+K311PGCXr/+EQCx/0V0s6e7uVmVlpTo7O/maoqtQWlqqOXPmRLy+xaK4/DZeyeyr4wE7hEIhrVy5UnfccUe/vjHh2+j48ePyer364osvNHLkSFVVVWnChAnRHiumVVZW6ujRozp06FC0R7miuA0IEC2lpaU6ceKEDhw4EO1RYt748ePV2Ngov9+vN954QyUlJaqrqyMivWhpadGKFStUU1OjpKSkaI9zRXEbEJOvjgeu1fLly7Vr1y7t379fWVlZ0R4n5iUmJionJ0eSlJ+fr0OHDun555/Xli1bojxZbDpy5IjOnTun2267Lbyvu7tb+/fv14svvqhgMKghQ4ZEccJIcXsNxOSr4wFTlmVp+fLlqqqq0t69ezV27NhojxSXQqFQxJ+jRqR7771Xx48fV2NjY3i7/fbb9eCDD6qxsTGm4iHF8RmIdOWvjkfPOjo6dPr06fDtM2fOqLGxUSkpKcrOzo7iZLGrtLRUFRUV2rlzp5KTk8N/ctntdmv48OFRni42lZWVqbCwUNnZ2bp48aIqKiq0b98+7dmzJ9qjxazk5OTLrquNGDFC119/fWxeb4v228Cu1QsvvGBlZ2dbiYmJ1rRp06yDBw9Ge6SY99e//tWSdNlWUlIS7dFiVk/PlyTrlVdeifZoMWvRokXWmDFjrMTEROvGG2+07r33Xuvdd9+N9lhxJ5bfxsvXuQMAjMTtNRAAQHQREACAEQICADBCQAAARggIAMAIAQEAGCEgAAAjBAQAYISAAACMEBAAgBECAvTg7NmzSkpK0qJFiyL2v/feexo2bJgeffTRKE0GxA6+CwvoxfLly1VeXq6PPvpIY8aM0Ycffiiv16vvf//7qq6uVkIC//+FbzcCAvTi7Nmz+u53v6tFixZp7dq1mj59upKTk3XgwAGNGDEi2uMBURfXfw8EGEiZmZlaunSpXnrpJR09elSff/656urqiAfw/zgHB/rwi1/8QsFgUB988IH+/Oc/KzMzM+Ln58+f15w5czRixAiNHz8+4i9kAt90nIEAfXjmmWckSV9++aVSUlIu+3lpaanS09N1/vx5vffee/rxj3+sjz76qMe1wDcNZyBAL9avX6+tW7fqxRdf1NChQ8Mx+VpHR4eqq6v19NNP67rrrtMPfvADTZo0STt37ozSxMDgIiBAD6qrq/X4449r7dq1Ki0t1UMPPaTt27frzJkz4TUfffSRRo4cqaysrPC+SZMm6eTJk9EYGRh0BAT4H0eOHNGDDz6oBx98UL/61a8kSY899pgSEhIizkI6OjrkcrkijnW5XOro6BjUeYFoISDAf/nkk080d+5cTZkyRS+99FJ4/+jRo7Vo0aKIs5CRI0cqEAhEHB8IBDRy5MhBnRmIFj4HAhjq6OhQSkqKzpw5E3531t13363i4mItXLgwytMBA4+AANfgRz/6kdxut1544QXV1taqpKSEd2HhW+P/AG7l9ViPckMjAAAAAElFTkSuQmCC' width=400.0/>\n",
       "            </div>\n",
       "        "
      ],
      "text/plain": [
       "Canvas(toolbar=Toolbar(toolitems=[('Home', 'Reset original view', 'home', 'home'), ('Back', 'Back to previous …"
      ]
     },
     "metadata": {},
     "output_type": "display_data"
    }
   ],
   "source": [
    "fig,ax = plt.subplots(1,1,figsize=(4,4))\n",
    "#plot_data(X_train, y_train, ax)\n",
    "\n",
    "ax.axis([0, 4, 0, 3.5])\n",
    "ax.set_ylabel('$x_1$', fontsize=12)\n",
    "ax.set_xlabel('$x_0$', fontsize=12)\n",
    "plt.show()"
   ]
  },
  {
   "cell_type": "markdown",
   "metadata": {},
   "source": [
    "Logistic Gradient Descent:\n",
    "𝑤𝑗=𝑤𝑗−𝛼∂𝐽(𝐰,𝑏)/∂𝑤𝑗\n",
    "𝑏=𝑏−𝛼∂𝐽(𝐰,𝑏)/∂𝑏\n"
   ]
  },
  {
   "cell_type": "code",
   "execution_count": 14,
   "metadata": {},
   "outputs": [],
   "source": [
    "def sigmoid(z):\n",
    "    g = 1/(1+np.exp(-z))\n",
    "   \n",
    "    return g"
   ]
  },
  {
   "cell_type": "code",
   "execution_count": 15,
   "metadata": {},
   "outputs": [],
   "source": [
    "def compute_gradient_logistic(X, y, w, b): \n",
    "    \"\"\"\n",
    "    Computes the gradient for linear regression \n",
    " \n",
    "    Args:\n",
    "      X (ndarray (m,n): Data, m examples with n features\n",
    "      y (ndarray (m,)): target values\n",
    "      w (ndarray (n,)): model parameters  \n",
    "      b (scalar)      : model parameter\n",
    "    Returns\n",
    "      dj_dw (ndarray (n,)): The gradient of the cost w.r.t. the parameters w. \n",
    "      dj_db (scalar)      : The gradient of the cost w.r.t. the parameter b. \n",
    "    \"\"\"\n",
    "    m,n = X.shape   #m for rows and n for columns\n",
    "    dj_dw = np.zeros((n,))                           #(n,)\n",
    "    dj_db = 0.\n",
    "\n",
    "    for i in range(m):\n",
    "        f_wb_i = sigmoid(np.dot(X[i],w) + b)          #(n,)(n,)=scalar\n",
    "        err_i  = f_wb_i  - y[i]                       #scalar\n",
    "        for j in range(n):\n",
    "            dj_dw[j] = dj_dw[j] + err_i * X[i,j]      #scalar\n",
    "        dj_db = dj_db + err_i\n",
    "    dj_dw = dj_dw/m                                   #(n,)\n",
    "    dj_db = dj_db/m                                   #scalar\n",
    "        \n",
    "    return dj_db, dj_dw  "
   ]
  },
  {
   "cell_type": "code",
   "execution_count": 16,
   "metadata": {},
   "outputs": [
    {
     "name": "stdout",
     "output_type": "stream",
     "text": [
      "dj_db: 0.49861806546328574\n",
      "dj_dw: [0.498333393278696, 0.49883942983996693]\n"
     ]
    }
   ],
   "source": [
    "X_tmp = np.array([[0.5, 1.5], [1,1], [1.5, 0.5], [3, 0.5], [2, 2], [1, 2.5]])\n",
    "y_tmp = np.array([0, 0, 0, 1, 1, 1])\n",
    "w_tmp = np.array([2.,3.])\n",
    "b_tmp = 1.\n",
    "dj_db_tmp, dj_dw_tmp = compute_gradient_logistic(X_tmp, y_tmp, w_tmp, b_tmp)\n",
    "print(f\"dj_db: {dj_db_tmp}\" )\n",
    "print(f\"dj_dw: {dj_dw_tmp.tolist()}\" ) #.tolist show the result as a list of float numbers"
   ]
  },
  {
   "cell_type": "code",
   "execution_count": 17,
   "metadata": {},
   "outputs": [],
   "source": [
    "def gradient_descent(X, y, w_in, b_in, alpha, num_iters): \n",
    "    \"\"\"\n",
    "    Performs batch gradient descent\n",
    "    \n",
    "    Args:\n",
    "      X (ndarray (m,n)   : Data, m examples with n features\n",
    "      y (ndarray (m,))   : target values\n",
    "      w_in (ndarray (n,)): Initial values of model parameters  \n",
    "      b_in (scalar)      : Initial values of model parameter\n",
    "      alpha (float)      : Learning rate\n",
    "      num_iters (scalar) : number of iterations to run gradient descent\n",
    "      \n",
    "    Returns:\n",
    "      w (ndarray (n,))   : Updated values of parameters\n",
    "      b (scalar)         : Updated value of parameter \n",
    "    \"\"\"\n",
    "    # An array to store cost J and w's at each iteration primarily for graphing later\n",
    "    J_history = []\n",
    "    w = copy.deepcopy(w_in)  #avoid modifying global w within function\n",
    "    b = b_in\n",
    "    \n",
    "    for i in range(num_iters):\n",
    "        # Calculate the gradient and update the parameters\n",
    "        dj_db, dj_dw = compute_gradient_logistic(X, y, w, b)   \n",
    "\n",
    "        # Update Parameters using w, b, alpha and gradient\n",
    "        w = w - alpha * dj_dw               \n",
    "        b = b - alpha * dj_db               \n",
    "      \n",
    "        # Save cost J at each iteration\n",
    "        if i<100000:      # prevent resource exhaustion \n",
    "            J_history.append( compute_cost_logistic(X, y, w, b) )\n",
    "\n",
    "        # Print cost every at intervals 10 times or as many iterations if < 10\n",
    "        if i% math.ceil(num_iters / 10) == 0:\n",
    "            print(f\"Iteration {i:4d}: Cost {J_history[-1]}   \")\n",
    "        \n",
    "    return w, b, J_history         #return final w,b and J history for graphing"
   ]
  },
  {
   "cell_type": "code",
   "execution_count": 10,
   "metadata": {},
   "outputs": [],
   "source": [
    "def compute_cost_logistic(X, y, w, b):\n",
    "    \n",
    "    m = X.shape[0]\n",
    "    cost = 0.0\n",
    "    for i in range(m):\n",
    "        z_i = np.dot(X[i],w) + b\n",
    "        f_wb_i = sigmoid(z_i)\n",
    "        cost +=  -y[i]*np.log(f_wb_i) - (1-y[i])*np.log(1-f_wb_i)\n",
    "             \n",
    "    cost = cost / m\n",
    "    return cost"
   ]
  },
  {
   "cell_type": "code",
   "execution_count": 18,
   "metadata": {},
   "outputs": [
    {
     "name": "stdout",
     "output_type": "stream",
     "text": [
      "Iteration    0: Cost 0.684610468560574   \n",
      "Iteration 1000: Cost 0.1590977666870457   \n",
      "Iteration 2000: Cost 0.08460064176930078   \n",
      "Iteration 3000: Cost 0.05705327279402531   \n",
      "Iteration 4000: Cost 0.04290759421682   \n",
      "Iteration 5000: Cost 0.03433847729884557   \n",
      "Iteration 6000: Cost 0.02860379802212006   \n",
      "Iteration 7000: Cost 0.02450156960879306   \n",
      "Iteration 8000: Cost 0.02142370332569295   \n",
      "Iteration 9000: Cost 0.019030137124109114   \n",
      "\n",
      "updated parameters: w:[5.28123029 5.07815608], b:-14.222409982019837\n"
     ]
    }
   ],
   "source": [
    "w_tmp  = np.zeros_like(X_train[0])\n",
    "b_tmp  = 0.\n",
    "alph = 0.1\n",
    "iters = 10000\n",
    "\n",
    "w_out, b_out, _ = gradient_descent(X_train, y_train, w_tmp, b_tmp, alph, iters) \n",
    "print(f\"\\nupdated parameters: w:{w_out}, b:{b_out}\")"
   ]
  }
 ],
 "metadata": {
  "kernelspec": {
   "display_name": "Python 3",
   "language": "python",
   "name": "python3"
  },
  "language_info": {
   "codemirror_mode": {
    "name": "ipython",
    "version": 3
   },
   "file_extension": ".py",
   "mimetype": "text/x-python",
   "name": "python",
   "nbconvert_exporter": "python",
   "pygments_lexer": "ipython3",
   "version": "3.10.11"
  },
  "orig_nbformat": 4
 },
 "nbformat": 4,
 "nbformat_minor": 2
}
