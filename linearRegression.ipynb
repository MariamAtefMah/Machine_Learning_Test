{
 "cells": [
  {
   "cell_type": "code",
   "execution_count": 1,
   "metadata": {},
   "outputs": [
    {
     "name": "stdout",
     "output_type": "stream",
     "text": [
      "(3,)\n",
      "[[0.47 1.28 3.26]\n",
      " [3.17 2.98 3.96]]\n"
     ]
    }
   ],
   "source": [
    "import numpy as np\n",
    "\n",
    "w = np.array([[0.5, 1.3, 3.3], [3.2, 3, 4]]) #2 rows and 3 coloumns.\n",
    "d = np.array([0.3, 0.2, 0.4])\n",
    "\n",
    "w = w-0.1*d\n",
    "print(d.shape) #it will print the number of rows and coloumns.\n",
    "print(w) #will print solution of last equation."
   ]
  }
 ],
 "metadata": {
  "kernelspec": {
   "display_name": "Python 3",
   "language": "python",
   "name": "python3"
  },
  "language_info": {
   "codemirror_mode": {
    "name": "ipython",
    "version": 3
   },
   "file_extension": ".py",
   "mimetype": "text/x-python",
   "name": "python",
   "nbconvert_exporter": "python",
   "pygments_lexer": "ipython3",
   "version": "3.10.11"
  },
  "orig_nbformat": 4
 },
 "nbformat": 4,
 "nbformat_minor": 2
}
